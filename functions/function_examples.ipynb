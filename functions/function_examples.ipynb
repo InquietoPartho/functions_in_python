{
 "cells": [
  {
   "cell_type": "markdown",
   "metadata": {},
   "source": [
    "### Example-1: Temperature Conversion"
   ]
  },
  {
   "cell_type": "code",
   "execution_count": 6,
   "metadata": {},
   "outputs": [
    {
     "name": "stdout",
     "output_type": "stream",
     "text": [
      "170.6\n",
      "77.0\n"
     ]
    }
   ],
   "source": [
    "def conv_temp(temprature,unit):\n",
    "    if unit == 'c' or 'C':\n",
    "        return temprature*(9/5)+32\n",
    "    elif unit == \"f\" or \"F\":\n",
    "        return (temprature-32)*5/9\n",
    "    else:\n",
    "        return None\n",
    "\n",
    "print(conv_temp(77,'f'))\n",
    "print(conv_temp(25,'c'))\n",
    "\n",
    "\n"
   ]
  },
  {
   "cell_type": "markdown",
   "metadata": {},
   "source": [
    "### Password Strength Checker"
   ]
  },
  {
   "cell_type": "code",
   "execution_count": 9,
   "metadata": {},
   "outputs": [
    {
     "name": "stdout",
     "output_type": "stream",
     "text": [
      "False\n",
      "False\n",
      "True\n"
     ]
    }
   ],
   "source": [
    "def is_pass_strong(password):\n",
    "    if len(password)<8:\n",
    "        return False\n",
    "    if not any(char.isdigit() for char in password):\n",
    "        return False\n",
    "    if not any(char.islower() for char in password):\n",
    "        return False\n",
    "    if not any(char.isupper() for char in password):\n",
    "        return False\n",
    "    if not any(char in '!@#$%^&*()_+' for char in password):\n",
    "        return False\n",
    "    else:\n",
    "        return True\n",
    "    \n",
    "print(is_pass_strong('abcd'))\n",
    "print(is_pass_strong('abcdABCD!@#'))\n",
    "print(is_pass_strong('abcdABCD!@#123'))"
   ]
  },
  {
   "cell_type": "markdown",
   "metadata": {},
   "source": [
    "### Calculate the total cost of all items in a shopping cart"
   ]
  },
  {
   "cell_type": "code",
   "execution_count": 13,
   "metadata": {},
   "outputs": [
    {
     "name": "stdout",
     "output_type": "stream",
     "text": [
      "100\n"
     ]
    }
   ],
   "source": [
    "def total_shopping_cost(cart):\n",
    "    total_cost = 0\n",
    "    for item in cart:\n",
    "        total_cost += item['price']*item['quantity']\n",
    "    return total_cost\n",
    "\n",
    "\n",
    "cart = [\n",
    "\n",
    "    {'name':'apple','price':5,'quantity':10},\n",
    "    {'name':'Banana','price':5,'quantity':4},\n",
    "    {'name':'orange','price':15,'quantity':2}\n",
    "]\n",
    "\n",
    "print(total_shopping_cost(cart))\n"
   ]
  },
  {
   "cell_type": "markdown",
   "metadata": {},
   "source": [
    "### check if a string is palindrome or not"
   ]
  },
  {
   "cell_type": "code",
   "execution_count": 16,
   "metadata": {},
   "outputs": [
    {
     "name": "stdout",
     "output_type": "stream",
     "text": [
      "True\n",
      "False\n"
     ]
    }
   ],
   "source": [
    "def is_palindrome(s):\n",
    "    s = s.lower().replace(\" \",\"\")\n",
    "    return s == s[::-1]\n",
    "\n",
    "print(is_palindrome('A man a plan a canal Panama'))\n",
    "print(is_palindrome('Hello'))"
   ]
  },
  {
   "cell_type": "markdown",
   "metadata": {},
   "source": [
    "### A function to read a file and count the frequency of each word"
   ]
  },
  {
   "cell_type": "code",
   "execution_count": 17,
   "metadata": {},
   "outputs": [
    {
     "name": "stdout",
     "output_type": "stream",
     "text": [
      "{'hello': 1, 'my': 1, 'name': 1, 'is': 1, 'pijush': 1, 'kanti': 1, 'i': 1, 'studied': 1, 'in': 1, 'hajee': 1, 'mohammad': 1, 'danesh': 1, 'science': 1, 'and': 1, 'technology': 1, 'university': 1}\n"
     ]
    }
   ],
   "source": [
    "def count_word_freq(file_path):\n",
    "    word_count = {}\n",
    "    with open(file_path,'r') as file:\n",
    "        for line in file:\n",
    "            words = line.split()\n",
    "            for word in words:\n",
    "                word = word.lower().strip('.,!?;:\"\\'')\n",
    "                word_count[word] = word_count.get(word,0)+1\n",
    "    return word_count\n",
    "filepath = 'sample.txt'\n",
    "word_frequency = count_word_freq(filepath)\n",
    "print(word_frequency)"
   ]
  },
  {
   "cell_type": "markdown",
   "metadata": {},
   "source": [
    "### Validate Email Address"
   ]
  },
  {
   "cell_type": "code",
   "execution_count": 19,
   "metadata": {},
   "outputs": [
    {
     "name": "stdout",
     "output_type": "stream",
     "text": [
      "True\n",
      "False\n"
     ]
    }
   ],
   "source": [
    "import re\n",
    "\n",
    "def is_valid_email(email):\n",
    "    pattern = r'^[a-zA-Z0-9_.+-]+@[a-zA-Z0-9-]+\\.[a-zA-Z0-9-.]+$'\n",
    "    return re.match(pattern,email) is not None\n",
    "\n",
    "print(is_valid_email(\"pijushkantiroy2040@gmail.com\"))\n",
    "print(is_valid_email(\"xyzhfjsdhj\"))"
   ]
  },
  {
   "cell_type": "code",
   "execution_count": null,
   "metadata": {},
   "outputs": [],
   "source": []
  }
 ],
 "metadata": {
  "kernelspec": {
   "display_name": "Python 3",
   "language": "python",
   "name": "python3"
  },
  "language_info": {
   "codemirror_mode": {
    "name": "ipython",
    "version": 3
   },
   "file_extension": ".py",
   "mimetype": "text/x-python",
   "name": "python",
   "nbconvert_exporter": "python",
   "pygments_lexer": "ipython3",
   "version": "3.12.0"
  }
 },
 "nbformat": 4,
 "nbformat_minor": 2
}
