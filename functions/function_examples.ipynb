{
 "cells": [
  {
   "cell_type": "markdown",
   "metadata": {},
   "source": [
    "### Example-1: Temperature Conversion"
   ]
  },
  {
   "cell_type": "code",
   "execution_count": 6,
   "metadata": {},
   "outputs": [
    {
     "name": "stdout",
     "output_type": "stream",
     "text": [
      "170.6\n",
      "77.0\n"
     ]
    }
   ],
   "source": [
    "def conv_temp(temprature,unit):\n",
    "    if unit == 'c' or 'C':\n",
    "        return temprature*(9/5)+32\n",
    "    elif unit == \"f\" or \"F\":\n",
    "        return (temprature-32)*5/9\n",
    "    else:\n",
    "        return None\n",
    "\n",
    "print(conv_temp(77,'f'))\n",
    "print(conv_temp(25,'c'))\n",
    "\n",
    "\n"
   ]
  },
  {
   "cell_type": "markdown",
   "metadata": {},
   "source": [
    "### Password Strength Checker"
   ]
  },
  {
   "cell_type": "code",
   "execution_count": 9,
   "metadata": {},
   "outputs": [
    {
     "name": "stdout",
     "output_type": "stream",
     "text": [
      "False\n",
      "False\n",
      "True\n"
     ]
    }
   ],
   "source": [
    "def is_pass_strong(password):\n",
    "    if len(password)<8:\n",
    "        return False\n",
    "    if not any(char.isdigit() for char in password):\n",
    "        return False\n",
    "    if not any(char.islower() for char in password):\n",
    "        return False\n",
    "    if not any(char.isupper() for char in password):\n",
    "        return False\n",
    "    if not any(char in '!@#$%^&*()_+' for char in password):\n",
    "        return False\n",
    "    else:\n",
    "        return True\n",
    "    \n",
    "print(is_pass_strong('abcd'))\n",
    "print(is_pass_strong('abcdABCD!@#'))\n",
    "print(is_pass_strong('abcdABCD!@#123'))"
   ]
  },
  {
   "cell_type": "markdown",
   "metadata": {},
   "source": [
    "### Calculate the total cost of all items in a shopping cart"
   ]
  },
  {
   "cell_type": "code",
   "execution_count": 13,
   "metadata": {},
   "outputs": [
    {
     "name": "stdout",
     "output_type": "stream",
     "text": [
      "100\n"
     ]
    }
   ],
   "source": [
    "def total_shopping_cost(cart):\n",
    "    total_cost = 0\n",
    "    for item in cart:\n",
    "        total_cost += item['price']*item['quantity']\n",
    "    return total_cost\n",
    "\n",
    "\n",
    "cart = [\n",
    "\n",
    "    {'name':'apple','price':5,'quantity':10},\n",
    "    {'name':'Banana','price':5,'quantity':4},\n",
    "    {'name':'orange','price':15,'quantity':2}\n",
    "]\n",
    "\n",
    "print(total_shopping_cost(cart))\n"
   ]
  },
  {
   "cell_type": "code",
   "execution_count": null,
   "metadata": {},
   "outputs": [],
   "source": []
  }
 ],
 "metadata": {
  "kernelspec": {
   "display_name": "Python 3",
   "language": "python",
   "name": "python3"
  },
  "language_info": {
   "codemirror_mode": {
    "name": "ipython",
    "version": 3
   },
   "file_extension": ".py",
   "mimetype": "text/x-python",
   "name": "python",
   "nbconvert_exporter": "python",
   "pygments_lexer": "ipython3",
   "version": "3.12.0"
  }
 },
 "nbformat": 4,
 "nbformat_minor": 2
}
